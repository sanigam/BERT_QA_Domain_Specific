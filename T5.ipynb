{
 "cells": [
  {
   "cell_type": "code",
   "execution_count": null,
   "metadata": {},
   "outputs": [],
   "source": [
    "#!pip install --upgrade transformers==3.0.2 #Make sure of transformer version\n",
    "#!pip install git+https://github.com/huggingface/transformers\n",
    "import pandas as pd\n",
    "from simpletransformers.t5 import T5Model\n",
    "from sklearn.model_selection import train_test_split\n",
    "import logging\n",
    "import numpy as np\n",
    "\n",
    "logging.basicConfig(level=logging.ERROR)\n",
    "from sklearn.metrics import accuracy_score\n",
    "\n",
    "import pandas as pd\n",
    "from simpletransformers.t5 import T5Model"
   ]
  },
  {
   "cell_type": "code",
   "execution_count": null,
   "metadata": {},
   "outputs": [],
   "source": [
    "prefix = 'data/binary_classification/'\n",
    "\n",
    "binary_train_df = pd.read_csv(prefix + 'train.csv', header=None)\n",
    "binary_train_df.head()\n",
    "\n",
    "binary_eval_df = pd.read_csv(prefix + 'test.csv', header=None)\n",
    "binary_eval_df.head(1)\n",
    "\n",
    "binary_train_df[0] = (binary_train_df[0] == 2).astype(int)\n",
    "binary_eval_df[0] = (binary_eval_df[0] == 2).astype(int)\n",
    "\n",
    "binary_train_df = pd.DataFrame({\n",
    "    'prefix': [\"binary classification\" for i in range(len(binary_train_df))],\n",
    "    'input_text': binary_train_df[1].str.replace('\\n', ' '),\n",
    "    'target_text': binary_train_df[0].astype(str),\n",
    "})\n",
    "\n",
    "print(binary_train_df.head())\n",
    "\n",
    "binary_eval_df = pd.DataFrame({\n",
    "    'prefix': [\"binary classification\" for i in range(len(binary_eval_df))],\n",
    "    'input_text': binary_eval_df[1].str.replace('\\n', ' '),\n",
    "    'target_text': binary_eval_df[0].astype(str),\n",
    "})\n",
    "\n",
    "\n",
    "print(binary_eval_df.head(1))\n",
    "print ( binary_train_df.shape, binary_eval_df.shape)"
   ]
  },
  {
   "cell_type": "code",
   "execution_count": null,
   "metadata": {},
   "outputs": [],
   "source": [
    "binary_eval_df.iloc[1, 1]"
   ]
  },
  {
   "cell_type": "code",
   "execution_count": 4,
   "metadata": {},
   "outputs": [],
   "source": [
    "train_df = binary_train_df.copy()\n",
    "eval_df = binary_eval_df.copy()"
   ]
  },
  {
   "cell_type": "code",
   "execution_count": 5,
   "metadata": {},
   "outputs": [],
   "source": [
    "train_df.to_csv(\"data/train.tsv\", \"\\t\", index=False)\n",
    "eval_df.to_csv(\"data/eval.tsv\", \"\\t\", index=False)"
   ]
  },
  {
   "cell_type": "code",
   "execution_count": 6,
   "metadata": {},
   "outputs": [],
   "source": [
    "train_df = pd.read_csv(\"data/train.tsv\", sep=\"\\t\").astype(str)\n",
    "eval_df = pd.read_csv(\"data/eval.tsv\", sep=\"\\t\").astype(str)"
   ]
  },
  {
   "cell_type": "code",
   "execution_count": 7,
   "metadata": {},
   "outputs": [
    {
     "data": {
      "text/html": [
       "<div>\n",
       "<style scoped>\n",
       "    .dataframe tbody tr th:only-of-type {\n",
       "        vertical-align: middle;\n",
       "    }\n",
       "\n",
       "    .dataframe tbody tr th {\n",
       "        vertical-align: top;\n",
       "    }\n",
       "\n",
       "    .dataframe thead th {\n",
       "        text-align: right;\n",
       "    }\n",
       "</style>\n",
       "<table border=\"1\" class=\"dataframe\">\n",
       "  <thead>\n",
       "    <tr style=\"text-align: right;\">\n",
       "      <th></th>\n",
       "      <th>prefix</th>\n",
       "      <th>input_text</th>\n",
       "      <th>target_text</th>\n",
       "    </tr>\n",
       "  </thead>\n",
       "  <tbody>\n",
       "    <tr>\n",
       "      <th>0</th>\n",
       "      <td>binary classification</td>\n",
       "      <td>Unfortunately, the frustration of being Dr. Go...</td>\n",
       "      <td>0</td>\n",
       "    </tr>\n",
       "    <tr>\n",
       "      <th>1</th>\n",
       "      <td>binary classification</td>\n",
       "      <td>Been going to Dr. Goldberg for over 10 years. ...</td>\n",
       "      <td>1</td>\n",
       "    </tr>\n",
       "    <tr>\n",
       "      <th>2</th>\n",
       "      <td>binary classification</td>\n",
       "      <td>I don't know what Dr. Goldberg was like before...</td>\n",
       "      <td>0</td>\n",
       "    </tr>\n",
       "    <tr>\n",
       "      <th>3</th>\n",
       "      <td>binary classification</td>\n",
       "      <td>I'm writing this review to give you a heads up...</td>\n",
       "      <td>0</td>\n",
       "    </tr>\n",
       "    <tr>\n",
       "      <th>4</th>\n",
       "      <td>binary classification</td>\n",
       "      <td>All the food is great here. But the best thing...</td>\n",
       "      <td>1</td>\n",
       "    </tr>\n",
       "  </tbody>\n",
       "</table>\n",
       "</div>"
      ],
      "text/plain": [
       "                  prefix                                         input_text  \\\n",
       "0  binary classification  Unfortunately, the frustration of being Dr. Go...   \n",
       "1  binary classification  Been going to Dr. Goldberg for over 10 years. ...   \n",
       "2  binary classification  I don't know what Dr. Goldberg was like before...   \n",
       "3  binary classification  I'm writing this review to give you a heads up...   \n",
       "4  binary classification  All the food is great here. But the best thing...   \n",
       "\n",
       "  target_text  \n",
       "0           0  \n",
       "1           1  \n",
       "2           0  \n",
       "3           0  \n",
       "4           1  "
      ]
     },
     "execution_count": 7,
     "metadata": {},
     "output_type": "execute_result"
    }
   ],
   "source": [
    "train_df.head()"
   ]
  },
  {
   "cell_type": "code",
   "execution_count": 8,
   "metadata": {},
   "outputs": [],
   "source": [
    "\n",
    "\n",
    "model_args = {\n",
    "    \"max_seq_length\": 128,\n",
    "    \"train_batch_size\": 16,\n",
    "    \"eval_batch_size\": 64,\n",
    "    \"num_train_epochs\": 2,\n",
    "#     \"evaluate_during_training\": True,\n",
    "#     \"evaluate_during_training_steps\": 15000,\n",
    "#     \"evaluate_during_training_verbose\": True,\n",
    "    \n",
    "    \"use_multiprocessing\": False,\n",
    "    \"fp16\": False,\n",
    "\n",
    "    \"save_steps\": -1,\n",
    "    \"save_eval_checkpoints\": False,\n",
    "    \"save_model_every_epoch\": False,\n",
    "\n",
    "    \"reprocess_input_data\": True,\n",
    "    \"overwrite_output_dir\": True,\n",
    "    'n_gpu': 4,\n",
    "    'process_count': 30\n",
    "\n",
    "    #\"wandb_project\": \"T5 mixed tasks - Binary, Multi-Label, Regression\"\n",
    "}\n",
    "\n",
    "model = T5Model(\"t5-base\", args=model_args)\n",
    "\n"
   ]
  },
  {
   "cell_type": "code",
   "execution_count": null,
   "metadata": {},
   "outputs": [],
   "source": [
    "#model.train_model (train_df.head(100000), eval_data= eval_df.head(200))\n",
    "model.train_model (train_df.head(120000))"
   ]
  },
  {
   "cell_type": "code",
   "execution_count": null,
   "metadata": {},
   "outputs": [],
   "source": [
    "model.model.save_pretrained('outputs/t5kg')\n",
    "model.tokenizer.save_pretrained('outputs/t5kg')"
   ]
  },
  {
   "cell_type": "code",
   "execution_count": null,
   "metadata": {},
   "outputs": [],
   "source": [
    "model = T5Model('outputs/t5kg', args=model_args)"
   ]
  },
  {
   "cell_type": "code",
   "execution_count": null,
   "metadata": {},
   "outputs": [],
   "source": [
    "model.predict(['binary classification: this absolutely worst', \n",
    "               'binary classification: this absolutely great',\n",
    "                'I am so happy but movie was just ok. ',\n",
    "                'the movie was bad'])"
   ]
  },
  {
   "cell_type": "code",
   "execution_count": null,
   "metadata": {},
   "outputs": [],
   "source": [
    "pred = model.predict(eval_df['prefix'].head(10000) +': '+ eval_df['input_text'].head(10000) )"
   ]
  },
  {
   "cell_type": "code",
   "execution_count": null,
   "metadata": {},
   "outputs": [],
   "source": [
    "set(pred)"
   ]
  },
  {
   "cell_type": "code",
   "execution_count": null,
   "metadata": {},
   "outputs": [],
   "source": [
    "#pred.count('entailment')\n",
    "# pred = ['0' if x=='positive' else x for x in pred]\n",
    "# pred = ['0' if x== 'entailment' else x for x in pred]"
   ]
  },
  {
   "cell_type": "code",
   "execution_count": null,
   "metadata": {},
   "outputs": [],
   "source": [
    "pred = list (map( int, pred))"
   ]
  },
  {
   "cell_type": "code",
   "execution_count": null,
   "metadata": {},
   "outputs": [],
   "source": [
    "y = eval_df['target_text'].values[:5000]\n",
    "y = list (map( int, y))"
   ]
  },
  {
   "cell_type": "code",
   "execution_count": null,
   "metadata": {},
   "outputs": [],
   "source": [
    "\n",
    "pd.crosstab(np.array(y),np.array(pred) )"
   ]
  },
  {
   "cell_type": "code",
   "execution_count": null,
   "metadata": {},
   "outputs": [],
   "source": [
    "accuracy_score(np.array(y),np.array(pred))"
   ]
  },
  {
   "cell_type": "code",
   "execution_count": null,
   "metadata": {},
   "outputs": [],
   "source": []
  }
 ],
 "metadata": {
  "kernelspec": {
   "display_name": "Python 3",
   "language": "python",
   "name": "python3"
  },
  "language_info": {
   "codemirror_mode": {
    "name": "ipython",
    "version": 3
   },
   "file_extension": ".py",
   "mimetype": "text/x-python",
   "name": "python",
   "nbconvert_exporter": "python",
   "pygments_lexer": "ipython3",
   "version": "3.7.6"
  }
 },
 "nbformat": 4,
 "nbformat_minor": 4
}
