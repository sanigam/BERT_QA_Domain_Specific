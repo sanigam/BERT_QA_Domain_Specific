{
 "cells": [
  {
   "cell_type": "code",
   "execution_count": 2,
   "metadata": {},
   "outputs": [],
   "source": [
    "import json\n",
    "import os\n",
    "import pandas as pd\n",
    "#!pip install simpletransformers\n",
    "\n",
    "import time \n",
    "from simpletransformers.question_answering import QuestionAnsweringModel\n"
   ]
  },
  {
   "cell_type": "code",
   "execution_count": 3,
   "metadata": {},
   "outputs": [
    {
     "name": "stdout",
     "output_type": "stream",
     "text": [
      "18896\n",
      "{'context': \"Father Joseph Carrier, C.S.C. was Director of the Science Museum and the Library and Professor of Chemistry and Physics until 1874. Carrier taught that scientific research and its promise for progress were not antagonistic to the ideals of intellectual and moral culture endorsed by the Church. One of Carrier's students was Father John Augustine Zahm (1851–1921) who was made Professor and Co-Director of the Science Department at age 23 and by 1900 was a nationally prominent scientist and naturalist. Zahm was active in the Catholic Summer School movement, which introduced Catholic laity to contemporary intellectual issues. His book Evolution and Dogma (1896) defended certain aspects of evolutionary theory as true, and argued, moreover, that even the great Church teachers Thomas Aquinas and Augustine taught something like it. The intervention of Irish American Catholics in Rome prevented Zahm's censure by the Vatican. In 1913, Zahm and former President Theodore Roosevelt embarked on a major expedition through the Amazon.\", 'qas': [{'answers': [{'answer_start': 0, 'text': 'Father Joseph Carrier, C.S.C.'}], 'question': 'What person was the Director of the Science Museum at Notre Dame in the late 19th century?', 'id': '5733b0fb4776f41900661041'}, {'answers': [{'answer_start': 353, 'text': '1851–1921'}], 'question': 'What was the lifespan of John Augustine Zahm?', 'id': '5733b0fb4776f41900661043'}, {'answers': [{'answer_start': 406, 'text': 'the Science Department'}], 'question': 'What program did John Augustine Zahm come to co-direct at Nore Dame?', 'id': '5733b0fb4776f41900661044'}, {'answers': [{'answer_start': 638, 'text': 'Evolution and Dogma'}], 'question': 'What book did John Zahm write in 1896?', 'id': '5733b0fb4776f41900661045'}, {'answers': [{'answer_start': 85, 'text': 'Professor of Chemistry and Physics'}], 'question': 'What professorship did Father Josh Carrier hold at Notre Dame?', 'id': '5733b0fb4776f41900661042'}]}\n"
     ]
    }
   ],
   "source": [
    "#Training on squad data so that we can get an QA  model from BERT\n",
    "with open('/home/jupyter/squad_data/train-v1.1.json', 'r') as f:\n",
    "    train_data = json.load(f)\n",
    "\n",
    "train_data = [item for topic in train_data['data'] for item in topic['paragraphs'] ]\n",
    "\n",
    "print(len(train_data))\n",
    "print(train_data[10])"
   ]
  },
  {
   "cell_type": "code",
   "execution_count": 4,
   "metadata": {},
   "outputs": [
    {
     "name": "stdout",
     "output_type": "stream",
     "text": [
      "Saint Bernadette Soubirous\n"
     ]
    },
    {
     "data": {
      "text/html": [
       "<div>\n",
       "<style scoped>\n",
       "    .dataframe tbody tr th:only-of-type {\n",
       "        vertical-align: middle;\n",
       "    }\n",
       "\n",
       "    .dataframe tbody tr th {\n",
       "        vertical-align: top;\n",
       "    }\n",
       "\n",
       "    .dataframe thead th {\n",
       "        text-align: right;\n",
       "    }\n",
       "</style>\n",
       "<table border=\"1\" class=\"dataframe\">\n",
       "  <thead>\n",
       "    <tr style=\"text-align: right;\">\n",
       "      <th></th>\n",
       "      <th>context</th>\n",
       "      <th>question</th>\n",
       "      <th>answer</th>\n",
       "    </tr>\n",
       "  </thead>\n",
       "  <tbody>\n",
       "    <tr>\n",
       "      <th>0</th>\n",
       "      <td>Architecturally, the school has a Catholic cha...</td>\n",
       "      <td>To whom did the Virgin Mary allegedly appear i...</td>\n",
       "      <td>Saint Bernadette Soubirous</td>\n",
       "    </tr>\n",
       "    <tr>\n",
       "      <th>1</th>\n",
       "      <td>As at most other universities, Notre Dame's st...</td>\n",
       "      <td>When did the Scholastic Magazine of Notre dame...</td>\n",
       "      <td>September 1876</td>\n",
       "    </tr>\n",
       "    <tr>\n",
       "      <th>2</th>\n",
       "      <td>The university is the major seat of the Congre...</td>\n",
       "      <td>Where is the headquarters of the Congregation ...</td>\n",
       "      <td>Rome</td>\n",
       "    </tr>\n",
       "    <tr>\n",
       "      <th>3</th>\n",
       "      <td>The College of Engineering was established in ...</td>\n",
       "      <td>How many BS level degrees are offered in the C...</td>\n",
       "      <td>eight</td>\n",
       "    </tr>\n",
       "    <tr>\n",
       "      <th>4</th>\n",
       "      <td>All of Notre Dame's undergraduate students are...</td>\n",
       "      <td>What entity provides help with the management ...</td>\n",
       "      <td>Learning Resource Center</td>\n",
       "    </tr>\n",
       "  </tbody>\n",
       "</table>\n",
       "</div>"
      ],
      "text/plain": [
       "                                             context  \\\n",
       "0  Architecturally, the school has a Catholic cha...   \n",
       "1  As at most other universities, Notre Dame's st...   \n",
       "2  The university is the major seat of the Congre...   \n",
       "3  The College of Engineering was established in ...   \n",
       "4  All of Notre Dame's undergraduate students are...   \n",
       "\n",
       "                                            question  \\\n",
       "0  To whom did the Virgin Mary allegedly appear i...   \n",
       "1  When did the Scholastic Magazine of Notre dame...   \n",
       "2  Where is the headquarters of the Congregation ...   \n",
       "3  How many BS level degrees are offered in the C...   \n",
       "4  What entity provides help with the management ...   \n",
       "\n",
       "                       answer  \n",
       "0  Saint Bernadette Soubirous  \n",
       "1              September 1876  \n",
       "2                        Rome  \n",
       "3                       eight  \n",
       "4    Learning Resource Center  "
      ]
     },
     "metadata": {},
     "output_type": "display_data"
    }
   ],
   "source": [
    "context = []\n",
    "question = []\n",
    "answer = []\n",
    "\n",
    "for i in range(len(train_data)):\n",
    "    context.append(train_data[i]['context'])\n",
    "    question.append(train_data[i]['qas'][0]['question'])\n",
    "    answer.append(train_data[i]['qas'][0]['answers'][0]['text'])\n",
    "\n",
    "df = pd.DataFrame ( {'context': context, 'question':question, 'answer': answer})\n",
    "df.to_csv('/mnt/disks/mount/data/squad.csv', index=False)\n",
    "print(train_data[0]['qas'][0]['answers'][0]['text'])\n",
    "display(df.head())"
   ]
  },
  {
   "cell_type": "code",
   "execution_count": 7,
   "metadata": {},
   "outputs": [],
   "source": [
    "train_args = {\n",
    "    'output_dir': '/home/jupyter/outputs_bert_base/',\n",
    "    'learning_rate': 3e-5,\n",
    "    'num_train_epochs': 1, #for now traiing 1 epoch only, but should be increased in real training\n",
    "    'max_seq_length': 512,\n",
    "    'doc_stride': 128,\n",
    "    'overwrite_output_dir': True,\n",
    "    'reprocess_input_data': False,\n",
    "    'train_batch_size': 8,\n",
    "    'gradient_accumulation_steps': 8,\n",
    "    'do_lower_case': True,\n",
    "    'silent': False,\n",
    "    'n_gpu': 8,\n",
    "    'process_count': 30,\n",
    "    'fp16': False,\n",
    "    'save_eval_checkpoints': False,\n",
    "    'save_model_every_epoch': False,\n",
    "    'lazy_loading' : False\n",
    "}"
   ]
  },
  {
   "cell_type": "code",
   "execution_count": 8,
   "metadata": {},
   "outputs": [
    {
     "name": "stderr",
     "output_type": "stream",
     "text": [
      "Some weights of the model checkpoint at bert-base-uncased were not used when initializing BertForQuestionAnswering: ['cls.predictions.bias', 'cls.predictions.transform.dense.weight', 'cls.predictions.transform.dense.bias', 'cls.predictions.decoder.weight', 'cls.seq_relationship.weight', 'cls.seq_relationship.bias', 'cls.predictions.transform.LayerNorm.weight', 'cls.predictions.transform.LayerNorm.bias']\n",
      "- This IS expected if you are initializing BertForQuestionAnswering from the checkpoint of a model trained on another task or with another architecture (e.g. initializing a BertForSequenceClassification model from a BertForPreTraining model).\n",
      "- This IS NOT expected if you are initializing BertForQuestionAnswering from the checkpoint of a model that you expect to be exactly identical (initializing a BertForSequenceClassification model from a BertForSequenceClassification model).\n",
      "Some weights of BertForQuestionAnswering were not initialized from the model checkpoint at bert-base-uncased and are newly initialized: ['qa_outputs.weight', 'qa_outputs.bias']\n",
      "You should probably TRAIN this model on a down-stream task to be able to use it for predictions and inference.\n"
     ]
    }
   ],
   "source": [
    "# Load model of your choice, after training model will be stored into output dir\n",
    "model = QuestionAnsweringModel('bert', 'bert-base-uncased', args=train_args, use_cuda=True)\n",
    "#model = QuestionAnsweringModel('bert', 'bert-large-uncased', args=train_args, use_cuda=True)\n",
    "#model = QuestionAnsweringModel('distilbert', 'distilbert-base-uncased', args=train_args, use_cuda = True)\n",
    "#model = QuestionAnsweringModel(\"roberta\",\"roberta-base\", args=train_args, use_cuda = True                            \n",
    "#model = QuestionAnsweringModel(\"xlnet\",\"xlnet-base-cased\", args=train_args, use_cuda = True)"
   ]
  },
  {
   "cell_type": "code",
   "execution_count": 9,
   "metadata": {},
   "outputs": [
    {
     "name": "stdout",
     "output_type": "stream",
     "text": [
      "Tue May 11 04:34:26 2021\n"
     ]
    },
    {
     "name": "stderr",
     "output_type": "stream",
     "text": [
      "convert squad examples to features: 100%|██████████| 87599/87599 [01:09<00:00, 1262.45it/s]  \n",
      "add example index and unique id: 100%|██████████| 87599/87599 [00:00<00:00, 773167.31it/s]\n"
     ]
    },
    {
     "data": {
      "application/vnd.jupyter.widget-view+json": {
       "model_id": "e07632d961e040cdbaadafc63e04de66",
       "version_major": 2,
       "version_minor": 0
      },
      "text/plain": [
       "HBox(children=(FloatProgress(value=0.0, description='Epoch', max=1.0, style=ProgressStyle(description_width='i…"
      ]
     },
     "metadata": {},
     "output_type": "display_data"
    },
    {
     "data": {
      "application/vnd.jupyter.widget-view+json": {
       "model_id": "f07287286c374a0296d0838260101021",
       "version_major": 2,
       "version_minor": 0
      },
      "text/plain": [
       "HBox(children=(FloatProgress(value=0.0, description='Running Epoch 0 of 1', max=10969.0, style=ProgressStyle(d…"
      ]
     },
     "metadata": {},
     "output_type": "display_data"
    },
    {
     "name": "stderr",
     "output_type": "stream",
     "text": [
      "/opt/conda/lib/python3.7/site-packages/torch/nn/parallel/_functions.py:61: UserWarning: Was asked to gather along dimension 0, but all input tensors were scalars; will instead unsqueeze and return a vector.\n",
      "  warnings.warn('Was asked to gather along dimension 0, but all '\n"
     ]
    },
    {
     "name": "stdout",
     "output_type": "stream",
     "text": [
      "\n",
      "\n",
      "Tue May 11 06:43:22 2021\n",
      "Time Elapsed =  128.92298378944398 minutes\n"
     ]
    }
   ],
   "source": [
    "\n",
    "print (time.asctime() )\n",
    "t1 = time.time()\n",
    "model.train_model(train_data)\n",
    "print (time.asctime() )\n",
    "\n",
    "t2= time.time()\n",
    "print ('Time Elapsed = ' , (t2-t1)/60 , 'minutes' )\n"
   ]
  },
  {
   "cell_type": "code",
   "execution_count": 10,
   "metadata": {},
   "outputs": [],
   "source": [
    "def answering_machine (model, question, passage):\n",
    "    \n",
    "    input_list  = [ {'context': passage,\n",
    "               'qas':[{'question': question, 'id': 'dummy_id'}]\n",
    "              } ]\n",
    "    \n",
    "    #print (input_list)\n",
    "        \n",
    "    prediction = model.predict(input_list, n_best_size=1)\n",
    "    \n",
    "    #print (prediction)\n",
    "    \n",
    "    answer = prediction[0][0]['answer'][0]\n",
    "    score = prediction[1][0]['probability'][0]\n",
    "    \n",
    "    \n",
    "    return score, answer\n",
    "\n"
   ]
  },
  {
   "cell_type": "code",
   "execution_count": 23,
   "metadata": {},
   "outputs": [
    {
     "name": "stderr",
     "output_type": "stream",
     "text": [
      "convert squad examples to features: 100%|██████████| 1/1 [00:00<00:00, 219.82it/s]\n",
      "add example index and unique id: 100%|██████████| 1/1 [00:00<00:00, 4144.57it/s]\n"
     ]
    },
    {
     "data": {
      "application/vnd.jupyter.widget-view+json": {
       "model_id": "85313e1858574cf0a8a8d24073adb642",
       "version_major": 2,
       "version_minor": 0
      },
      "text/plain": [
       "HBox(children=(FloatProgress(value=0.0, description='Running Prediction', max=1.0, style=ProgressStyle(descrip…"
      ]
     },
     "metadata": {},
     "output_type": "display_data"
    },
    {
     "name": "stdout",
     "output_type": "stream",
     "text": [
      "\n"
     ]
    },
    {
     "data": {
      "text/plain": [
       "(0.999999972737221, 'california')"
      ]
     },
     "execution_count": 23,
     "metadata": {},
     "output_type": "execute_result"
    }
   ],
   "source": [
    "#Testing model train with squad\n",
    "p = 'my name is john. john lives in california'\n",
    "q = 'what state I live'\n",
    "answering_machine(model, q, p)"
   ]
  },
  {
   "cell_type": "code",
   "execution_count": 12,
   "metadata": {},
   "outputs": [
    {
     "data": {
      "text/html": [
       "<div>\n",
       "<style scoped>\n",
       "    .dataframe tbody tr th:only-of-type {\n",
       "        vertical-align: middle;\n",
       "    }\n",
       "\n",
       "    .dataframe tbody tr th {\n",
       "        vertical-align: top;\n",
       "    }\n",
       "\n",
       "    .dataframe thead th {\n",
       "        text-align: right;\n",
       "    }\n",
       "</style>\n",
       "<table border=\"1\" class=\"dataframe\">\n",
       "  <thead>\n",
       "    <tr style=\"text-align: right;\">\n",
       "      <th></th>\n",
       "      <th>context</th>\n",
       "      <th>question</th>\n",
       "      <th>answer</th>\n",
       "    </tr>\n",
       "  </thead>\n",
       "  <tbody>\n",
       "    <tr>\n",
       "      <th>0</th>\n",
       "      <td>John is a 10 year old boy. He is the son of Ro...</td>\n",
       "      <td>Which college does John's sister attend</td>\n",
       "      <td>UC Davis</td>\n",
       "    </tr>\n",
       "    <tr>\n",
       "      <th>1</th>\n",
       "      <td>Apple has told employees it'll provide them w...</td>\n",
       "      <td>On what date we have Election Day</td>\n",
       "      <td>Nov. 3</td>\n",
       "    </tr>\n",
       "    <tr>\n",
       "      <th>2</th>\n",
       "      <td>BERT, which is an acronym for Bi-directional E...</td>\n",
       "      <td>What is full form of BERT</td>\n",
       "      <td>Bi-directional Encoder Representation from Tra...</td>\n",
       "    </tr>\n",
       "  </tbody>\n",
       "</table>\n",
       "</div>"
      ],
      "text/plain": [
       "                                             context  \\\n",
       "0  John is a 10 year old boy. He is the son of Ro...   \n",
       "1   Apple has told employees it'll provide them w...   \n",
       "2  BERT, which is an acronym for Bi-directional E...   \n",
       "\n",
       "                                  question  \\\n",
       "0  Which college does John's sister attend   \n",
       "1        On what date we have Election Day   \n",
       "2                What is full form of BERT   \n",
       "\n",
       "                                              answer  \n",
       "0                                           UC Davis  \n",
       "1                                             Nov. 3  \n",
       "2  Bi-directional Encoder Representation from Tra...  "
      ]
     },
     "execution_count": 12,
     "metadata": {},
     "output_type": "execute_result"
    }
   ],
   "source": [
    "##Training with custom data so that we can get domain finetuned QA  model from BERT\n",
    "\n",
    "#sample domain specific/custom data into a dataframe, use your own domain data\n",
    "contexts= [\"John is a 10 year old boy. He is the son of Robert Smith.  Elizabeth Davis is Robert's wife. She teaches at UC Berkeley. Sophia Smith is Elizabeth's daughter. She studies at UC Davis\",\n",
    "\" Apple has told employees it'll provide them with paid time off to vote in the US presidential election on Nov. 3, according to a report. Workers, who wish to vote that Tuesday will be given up to four hours of pay, Bloomberg reported Friday citing an internal Apple memo.\",\n",
    "\"BERT, which is an acronym for Bi-directional Encoder Representation from Transformer, is a state of the art language model which can be used for various natural language processing (NLP) tasks. My objective is to introduce BERT at a high level, and enable you to create practical applications using BERT. You need to have basic knowledge of Python as well as a basic idea of machine learning.\"\n",
    "]\n",
    "questions = [\"Which college does John's sister attend\", \"On what date we have Election Day\", \"What is full form of BERT\"]\n",
    "answers = [\"UC Davis\", \"Nov. 3\", \"Bi-directional Encoder Representation from Transformer\"]\n",
    "\n",
    "df=pd.DataFrame({'context':contexts, 'question':questions, 'answer':answers})\n",
    "df.head()"
   ]
  },
  {
   "cell_type": "code",
   "execution_count": 13,
   "metadata": {},
   "outputs": [
    {
     "name": "stdout",
     "output_type": "stream",
     "text": [
      "(3, 4)\n"
     ]
    },
    {
     "data": {
      "text/html": [
       "<div>\n",
       "<style scoped>\n",
       "    .dataframe tbody tr th:only-of-type {\n",
       "        vertical-align: middle;\n",
       "    }\n",
       "\n",
       "    .dataframe tbody tr th {\n",
       "        vertical-align: top;\n",
       "    }\n",
       "\n",
       "    .dataframe thead th {\n",
       "        text-align: right;\n",
       "    }\n",
       "</style>\n",
       "<table border=\"1\" class=\"dataframe\">\n",
       "  <thead>\n",
       "    <tr style=\"text-align: right;\">\n",
       "      <th></th>\n",
       "      <th>context</th>\n",
       "      <th>question</th>\n",
       "      <th>answer</th>\n",
       "      <th>answer_start</th>\n",
       "    </tr>\n",
       "  </thead>\n",
       "  <tbody>\n",
       "    <tr>\n",
       "      <th>0</th>\n",
       "      <td>John is a 10 year old boy. He is the son of Ro...</td>\n",
       "      <td>Which college does John's sister attend</td>\n",
       "      <td>UC Davis</td>\n",
       "      <td>174</td>\n",
       "    </tr>\n",
       "    <tr>\n",
       "      <th>1</th>\n",
       "      <td>Apple has told employees it'll provide them w...</td>\n",
       "      <td>On what date we have Election Day</td>\n",
       "      <td>Nov. 3</td>\n",
       "      <td>107</td>\n",
       "    </tr>\n",
       "    <tr>\n",
       "      <th>2</th>\n",
       "      <td>BERT, which is an acronym for Bi-directional E...</td>\n",
       "      <td>What is full form of BERT</td>\n",
       "      <td>Bi-directional Encoder Representation from Tra...</td>\n",
       "      <td>30</td>\n",
       "    </tr>\n",
       "  </tbody>\n",
       "</table>\n",
       "</div>"
      ],
      "text/plain": [
       "                                             context  \\\n",
       "0  John is a 10 year old boy. He is the son of Ro...   \n",
       "1   Apple has told employees it'll provide them w...   \n",
       "2  BERT, which is an acronym for Bi-directional E...   \n",
       "\n",
       "                                  question  \\\n",
       "0  Which college does John's sister attend   \n",
       "1        On what date we have Election Day   \n",
       "2                What is full form of BERT   \n",
       "\n",
       "                                              answer  answer_start  \n",
       "0                                           UC Davis           174  \n",
       "1                                             Nov. 3           107  \n",
       "2  Bi-directional Encoder Representation from Tra...            30  "
      ]
     },
     "execution_count": 13,
     "metadata": {},
     "output_type": "execute_result"
    }
   ],
   "source": [
    "df['answer_start']= df.apply(lambda x: str(x.context).find(str(x.answer)), axis=1)\n",
    "df = df[df['answer_start'] != -1] #filter out where answer was not in context\n",
    "print(df.shape)\n",
    "df = df.reset_index(drop= True)\n",
    "df.head()"
   ]
  },
  {
   "cell_type": "code",
   "execution_count": 14,
   "metadata": {},
   "outputs": [
    {
     "name": "stdout",
     "output_type": "stream",
     "text": [
      "{'context': \"John is a 10 year old boy. He is the son of Robert Smith.  Elizabeth Davis is Robert's wife. She teaches at UC Berkeley. Sophia Smith is Elizabeth's daughter. She studies at UC Davis\", 'qas': [{'answers': [{'answer_start': 174, 'text': 'UC Davis'}], 'question': \"Which college does John's sister attend\", 'id': 0}]}\n"
     ]
    }
   ],
   "source": [
    "#converting into format so that we can feed into bert\n",
    "df_list = []\n",
    "for i in range (len(df)):\n",
    "    dict_qa = {}\n",
    "    dict_qa['context'] = df.loc[i].context\n",
    "#     dict_qa['question'] = df.loc[i].question\n",
    "#     dict_qa['id'] = i\n",
    "    dict_qa['qas'] = [{'answers': [{'answer_start': df.loc[i].answer_start,'text' : df.loc[i].answer }], 'question':df.loc[i].question, 'id': i  }]\n",
    "    df_list.append(dict_qa)\n",
    "    \n",
    "print (df_list[0] )\n",
    "# print (df_list[1] )\n",
    "# print (df_list[2] )"
   ]
  },
  {
   "cell_type": "code",
   "execution_count": 18,
   "metadata": {},
   "outputs": [],
   "source": [
    "train_args = {\n",
    "    'output_dir': 'outputs_bert_custom/',\n",
    "    'learning_rate': 3e-5,\n",
    "    'num_train_epochs': 1,\n",
    "    'max_seq_length': 512,\n",
    "    'doc_stride': 128,\n",
    "    'overwrite_output_dir': True,\n",
    "    'reprocess_input_data': False,\n",
    "    'train_batch_size': 1,\n",
    "    'gradient_accumulation_steps': 1,\n",
    "    'do_lower_case': True,\n",
    "    'silent': False,\n",
    "    'n_gpu': 4,\n",
    "    'process_count': 10,\n",
    "    'fp16': False,\n",
    "    'save_eval_checkpoints': False,\n",
    "    'save_model_every_epoch': False,\n",
    "    'lazy_loading' : False\n",
    "}"
   ]
  },
  {
   "cell_type": "code",
   "execution_count": 19,
   "metadata": {},
   "outputs": [],
   "source": [
    "#load model train on squad\n",
    "model_custom = QuestionAnsweringModel('bert', '/home/jupyter/outputs_bert_base/', args=train_args, use_cuda=True)"
   ]
  },
  {
   "cell_type": "code",
   "execution_count": 20,
   "metadata": {},
   "outputs": [
    {
     "name": "stdout",
     "output_type": "stream",
     "text": [
      "Tue May 11 14:17:20 2021\n"
     ]
    },
    {
     "name": "stderr",
     "output_type": "stream",
     "text": [
      "convert squad examples to features: 100%|██████████| 3/3 [00:00<00:00, 117.50it/s]\n",
      "add example index and unique id: 100%|██████████| 3/3 [00:00<00:00, 13329.36it/s]\n"
     ]
    },
    {
     "data": {
      "application/vnd.jupyter.widget-view+json": {
       "model_id": "fd02eedd7c9e48f1af517535be623fd1",
       "version_major": 2,
       "version_minor": 0
      },
      "text/plain": [
       "HBox(children=(FloatProgress(value=0.0, description='Epoch', max=1.0, style=ProgressStyle(description_width='i…"
      ]
     },
     "metadata": {},
     "output_type": "display_data"
    },
    {
     "data": {
      "application/vnd.jupyter.widget-view+json": {
       "model_id": "1cf140b452e44825ab96b527d12be4ea",
       "version_major": 2,
       "version_minor": 0
      },
      "text/plain": [
       "HBox(children=(FloatProgress(value=0.0, description='Running Epoch 0 of 1', max=3.0, style=ProgressStyle(descr…"
      ]
     },
     "metadata": {},
     "output_type": "display_data"
    },
    {
     "name": "stderr",
     "output_type": "stream",
     "text": [
      "/opt/conda/lib/python3.7/site-packages/torch/nn/parallel/_functions.py:61: UserWarning: Was asked to gather along dimension 0, but all input tensors were scalars; will instead unsqueeze and return a vector.\n",
      "  warnings.warn('Was asked to gather along dimension 0, but all '\n"
     ]
    },
    {
     "name": "stdout",
     "output_type": "stream",
     "text": [
      "\n",
      "\n",
      "Tue May 11 14:17:28 2021\n",
      "Time Elapsed =  0.12594921986262003 minutes\n"
     ]
    }
   ],
   "source": [
    "print (time.asctime() )\n",
    "t1 = time.time()\n",
    "model_custom.train_model(df_list)\n",
    "print (time.asctime() )\n",
    "\n",
    "t2= time.time()\n",
    "print ('Time Elapsed = ' , (t2-t1)/60 , 'minutes' )"
   ]
  },
  {
   "cell_type": "code",
   "execution_count": 24,
   "metadata": {},
   "outputs": [
    {
     "name": "stderr",
     "output_type": "stream",
     "text": [
      "convert squad examples to features: 100%|██████████| 1/1 [00:00<00:00, 235.13it/s]\n",
      "add example index and unique id: 100%|██████████| 1/1 [00:00<00:00, 4490.69it/s]\n"
     ]
    },
    {
     "data": {
      "application/vnd.jupyter.widget-view+json": {
       "model_id": "1a72b184004248c8a4d9839a549e9836",
       "version_major": 2,
       "version_minor": 0
      },
      "text/plain": [
       "HBox(children=(FloatProgress(value=0.0, description='Running Prediction', max=1.0, style=ProgressStyle(descrip…"
      ]
     },
     "metadata": {},
     "output_type": "display_data"
    },
    {
     "name": "stdout",
     "output_type": "stream",
     "text": [
      "\n"
     ]
    },
    {
     "data": {
      "text/plain": [
       "(0.9999999742049577, 'california')"
      ]
     },
     "execution_count": 24,
     "metadata": {},
     "output_type": "execute_result"
    }
   ],
   "source": [
    "#Testing model after triining with custom data\n",
    "p = 'my name is john. john lives in california'\n",
    "q = 'what state I live'\n",
    "answering_machine(model_custom, q, p)"
   ]
  },
  {
   "cell_type": "code",
   "execution_count": null,
   "metadata": {},
   "outputs": [],
   "source": []
  },
  {
   "cell_type": "code",
   "execution_count": null,
   "metadata": {},
   "outputs": [],
   "source": []
  }
 ],
 "metadata": {
  "kernelspec": {
   "display_name": "Python 3",
   "language": "python",
   "name": "python3"
  },
  "language_info": {
   "codemirror_mode": {
    "name": "ipython",
    "version": 3
   },
   "file_extension": ".py",
   "mimetype": "text/x-python",
   "name": "python",
   "nbconvert_exporter": "python",
   "pygments_lexer": "ipython3",
   "version": "3.8.3"
  }
 },
 "nbformat": 4,
 "nbformat_minor": 4
}
